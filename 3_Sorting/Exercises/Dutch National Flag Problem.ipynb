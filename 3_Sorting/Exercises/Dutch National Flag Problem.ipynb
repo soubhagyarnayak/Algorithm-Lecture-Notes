{
 "cells": [
  {
   "cell_type": "markdown",
   "metadata": {},
   "source": [
    "## Question 1: \n",
    "Let us consider an array with elements having values 0, 1 or 2. Your task is to sort the array so that the 0s are on the left, 1s are in the middle and 2s are in the right."
   ]
  },
  {
   "cell_type": "markdown",
   "metadata": {},
   "source": [
    "### Solution 1:\n",
    "The simple solution is of time complexity O(n) using the concept of counting sort. We can just traverse the array counting number of 0s, 1s and 2s. Then we can substitute the values in the array. \n"
   ]
  },
  {
   "cell_type": "code",
   "execution_count": 1,
   "metadata": {},
   "outputs": [
    {
     "name": "stdout",
     "output_type": "stream",
     "text": [
      "[0, 1, 2, 1, 2, 1, 1, 2, 2, 0, 0, 1, 2]\n",
      "[0, 0, 0, 1, 1, 1, 1, 1, 2, 2, 2, 2, 2]\n"
     ]
    }
   ],
   "source": [
    "def sort_012(data):\n",
    "    count = [0,0,0]\n",
    "    for element in data:\n",
    "        count[element]+=1\n",
    "    for i in range(len(data)):\n",
    "        if i<count[0]:\n",
    "            data[i] = 0\n",
    "        elif i<count[0]+count[1]:\n",
    "            data[i] = 1\n",
    "        else:\n",
    "            data[i] = 2\n",
    "data = [0,1,2,1,2,1,1,2,2,0,0,1,2]\n",
    "print(data)\n",
    "sort_012(data)\n",
    "print(data)"
   ]
  },
  {
   "cell_type": "markdown",
   "metadata": {},
   "source": [
    "### Extension 1\n",
    "One can make the things complicated by considering an array of objects. Each object has a field say color which has the value 0(red) or 1(blue) or 2(green). One needs to sort the array of objects such that all the red ones come first, followed by blue ones and then green ones. \n",
    "Since we are now considering objects, the above strategy of using counters won't work."
   ]
  },
  {
   "cell_type": "markdown",
   "metadata": {},
   "source": [
    "### Solution 2\n",
    "We can approach the problem using divide and rule. First we can traverse the array from both ends so as to have 0s on left and 1s,2s in the right. Then we will consider only the subarray containing 1s or 2s and apply the same technique to sort those. The complexity will be O(n). But we will have to make more than 1 pass on the array."
   ]
  },
  {
   "cell_type": "code",
   "execution_count": 10,
   "metadata": {},
   "outputs": [
    {
     "name": "stdout",
     "output_type": "stream",
     "text": [
      "[2, 2, 0, 0, 1, 1, 1, 2, 2, 1]\n",
      "[0, 0, 1, 1, 1, 1, 2, 2, 2, 2]\n",
      "[2, 1, 2, 1, 0, 2, 0, 0, 2, 0]\n",
      "[0, 0, 0, 0, 1, 1, 2, 2, 2, 2]\n"
     ]
    }
   ],
   "source": [
    "class Ball:\n",
    "    def __init__(self,name,color):\n",
    "        self.name = name\n",
    "        self.color = color\n",
    "    def __repr__(self):\n",
    "        return str(self.color)\n",
    "    \n",
    "def sort_with_pivot(data,start_index,pivot):\n",
    "    start = start_index\n",
    "    end = len(data)-1\n",
    "    while(start<end):\n",
    "        if data[start].color!=pivot:\n",
    "            data[start],data[end]=data[end],data[start]\n",
    "            end -= 1\n",
    "        else:\n",
    "            start += 1\n",
    "    return start\n",
    "\n",
    "def sort_012(data):\n",
    "    start = sort_with_pivot(data,0,0)\n",
    "    sort_with_pivot(data, start+1, 1)\n",
    "\n",
    "import random\n",
    "data = []\n",
    "for i in range(10):\n",
    "    data.append(Ball(str(i), random.choice([0,1,2])))\n",
    "print(data)\n",
    "sort_012(data)\n",
    "print(data)            "
   ]
  },
  {
   "cell_type": "markdown",
   "metadata": {},
   "source": [
    "### Solution 3\n",
    "One can exhance the solution further by doing the sorting in a single pass.\n",
    "It is a bit tricky as we will have to work with 3 markers low,mid and high instead of 2 start and end. "
   ]
  },
  {
   "cell_type": "code",
   "execution_count": 16,
   "metadata": {},
   "outputs": [
    {
     "name": "stdout",
     "output_type": "stream",
     "text": [
      "[1, 2, 0, 1, 2, 1, 0, 2, 1, 1]\n",
      "[0, 0, 1, 1, 1, 1, 1, 2, 2, 2]\n"
     ]
    }
   ],
   "source": [
    "def sort_012_single_pass(data):\n",
    "    low = 0\n",
    "    mid = 0\n",
    "    high = len(data)-1\n",
    "    while mid<=high:\n",
    "        if data[mid].color == 0:\n",
    "            data[low],data[mid]=data[mid],data[low]\n",
    "            low += 1\n",
    "            mid += 1\n",
    "        elif data[mid].color == 1:\n",
    "            mid += 1\n",
    "        else:\n",
    "            data[mid],data[high]=data[high],data[mid]\n",
    "            high -= 1\n",
    "import random\n",
    "data = []\n",
    "for i in range(10):\n",
    "    data.append(Ball(str(i), random.choice([0,1,2])))\n",
    "print(data)\n",
    "sort_012_single_pass(data)\n",
    "print(data) "
   ]
  },
  {
   "cell_type": "code",
   "execution_count": null,
   "metadata": {},
   "outputs": [],
   "source": []
  },
  {
   "cell_type": "code",
   "execution_count": null,
   "metadata": {},
   "outputs": [],
   "source": []
  }
 ],
 "metadata": {
  "kernelspec": {
   "display_name": "Python 3",
   "language": "python",
   "name": "python3"
  },
  "language_info": {
   "codemirror_mode": {
    "name": "ipython",
    "version": 3
   },
   "file_extension": ".py",
   "mimetype": "text/x-python",
   "name": "python",
   "nbconvert_exporter": "python",
   "pygments_lexer": "ipython3",
   "version": "3.5.6"
  },
  "widgets": {
   "state": {},
   "version": "1.1.2"
  }
 },
 "nbformat": 4,
 "nbformat_minor": 2
}
